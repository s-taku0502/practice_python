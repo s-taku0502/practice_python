{
 "cells": [
  {
   "cell_type": "code",
   "execution_count": 1,
   "id": "c55e4e64-549a-499f-8ab8-629b3db40b04",
   "metadata": {},
   "outputs": [
    {
     "name": "stdout",
     "output_type": "stream",
     "text": [
      "1から100までの間で好きな数字を1つ思い浮かべてください。\n",
      "あなたの考えている数字を7回以内に当ててみましょう。\n",
      "1 100\n",
      "あなたの数字は 50 より大きいですか？（yes/no）\n"
     ]
    },
    {
     "name": "stdin",
     "output_type": "stream",
     "text": [
      " no\n"
     ]
    },
    {
     "name": "stdout",
     "output_type": "stream",
     "text": [
      "あなたの数字は 25 より大きいですか？（yes/no）\n"
     ]
    },
    {
     "name": "stdin",
     "output_type": "stream",
     "text": [
      " no\n"
     ]
    },
    {
     "name": "stdout",
     "output_type": "stream",
     "text": [
      "あなたの数字は 13 より大きいですか？（yes/no）\n"
     ]
    },
    {
     "name": "stdin",
     "output_type": "stream",
     "text": [
      " no\n"
     ]
    },
    {
     "name": "stdout",
     "output_type": "stream",
     "text": [
      "あなたの数字は 7 より大きいですか？（yes/no）\n"
     ]
    },
    {
     "name": "stdin",
     "output_type": "stream",
     "text": [
      " no\n"
     ]
    },
    {
     "name": "stdout",
     "output_type": "stream",
     "text": [
      "あなたの数字は 4 より大きいですか？（yes/no）\n"
     ]
    },
    {
     "name": "stdin",
     "output_type": "stream",
     "text": [
      " no\n"
     ]
    },
    {
     "name": "stdout",
     "output_type": "stream",
     "text": [
      "あなたの数字は 2 より大きいですか？（yes/no）\n"
     ]
    },
    {
     "name": "stdin",
     "output_type": "stream",
     "text": [
      " no\n"
     ]
    },
    {
     "name": "stdout",
     "output_type": "stream",
     "text": [
      "あなたの数字は 1 より大きいですか？（yes/no）\n"
     ]
    },
    {
     "name": "stdin",
     "output_type": "stream",
     "text": [
      " no\n"
     ]
    },
    {
     "name": "stdout",
     "output_type": "stream",
     "text": [
      "あなたの考えている数字は 1 ですね！\n"
     ]
    }
   ],
   "source": [
    "print('1から100までの間で好きな数字を1つ思い浮かべてください。')\n",
    "print('あなたの考えている数字を7回以内に当ててみましょう。')\n",
    "\n",
    "# low: 最小の数値、high: 最大の数値\n",
    "low = 1\n",
    "high = 100\n",
    "print(low,high)\n",
    "\n",
    "for i in range(7):\n",
    "    # low と high が同じならループを抜ける\n",
    "    if low == high:\n",
    "        break\n",
    "        \n",
    "    # コンピューターの推測値を確認\n",
    "    guess = (low + high) // 2\n",
    "    print('あなたの数字は', guess, 'より大きいですか？（yes/no）')\n",
    "    answer = input()\n",
    "    \n",
    "    # ユーザーの答えにより分岐\n",
    "    if answer == 'yes':\n",
    "        low = guess + 1\n",
    "    else:\n",
    "        high = guess\n",
    "        \n",
    "print('あなたの考えている数字は', low, 'ですね！')"
   ]
  },
  {
   "cell_type": "code",
   "execution_count": null,
   "id": "7a2e8cc8-6c96-47e1-bdf9-ea413b2fe5be",
   "metadata": {},
   "outputs": [],
   "source": []
  }
 ],
 "metadata": {
  "kernelspec": {
   "display_name": "Python 3 (ipykernel)",
   "language": "python",
   "name": "python3"
  },
  "language_info": {
   "codemirror_mode": {
    "name": "ipython",
    "version": 3
   },
   "file_extension": ".py",
   "mimetype": "text/x-python",
   "name": "python",
   "nbconvert_exporter": "python",
   "pygments_lexer": "ipython3",
   "version": "3.12.4"
  }
 },
 "nbformat": 4,
 "nbformat_minor": 5
}
