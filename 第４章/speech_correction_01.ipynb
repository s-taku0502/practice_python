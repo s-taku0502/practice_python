{
 "cells": [
  {
   "cell_type": "code",
   "execution_count": 1,
   "id": "9e549a90-5246-4eb4-b5ed-daa5d5af93e4",
   "metadata": {},
   "outputs": [
    {
     "name": "stdout",
     "output_type": "stream",
     "text": [
      "マイクに向かってタメ口で話しかけてください\n",
      "音声認識結果「こんにちは」\n"
     ]
    }
   ],
   "source": [
    "# 113\n",
    "import speech_recognition as sr\n",
    "\n",
    "r = sr.Recognizer()\n",
    "\n",
    "with sr.Microphone() as source: # with リソースを自動で管理する仕組み\n",
    "    r.adjust_for_ambient_noise(source, duration=1) # 1秒間の測定 \n",
    "        # adjust-noise: 周囲の環境音を測定し、音声認識の精度向上\n",
    "    print('マイクに向かってタメ口で話しかけてください')\n",
    "    audio = r.listen(source)\n",
    "\n",
    "try:\n",
    "    recognized_text = r.recognize_google(audio, language='ja')\n",
    "    print(f'音声認識結果「{recognized_text}」')\n",
    "except sr.UnkownValueError: # 不明な値エラー（テキスト変換ができない）\n",
    "    print('認識できませんでした。')\n",
    "except sr.RequestError as e: # ネットワークの関係で音声認識ができない\n",
    "    print('ネットワークエラーが発生しました。')"
   ]
  },
  {
   "cell_type": "code",
   "execution_count": null,
   "id": "7ca49c5e-4eb7-4f63-92ca-771d1dc93ba6",
   "metadata": {},
   "outputs": [],
   "source": []
  }
 ],
 "metadata": {
  "kernelspec": {
   "display_name": "Python 3 (ipykernel)",
   "language": "python",
   "name": "python3"
  },
  "language_info": {
   "codemirror_mode": {
    "name": "ipython",
    "version": 3
   },
   "file_extension": ".py",
   "mimetype": "text/x-python",
   "name": "python",
   "nbconvert_exporter": "python",
   "pygments_lexer": "ipython3",
   "version": "3.12.4"
  }
 },
 "nbformat": 4,
 "nbformat_minor": 5
}
