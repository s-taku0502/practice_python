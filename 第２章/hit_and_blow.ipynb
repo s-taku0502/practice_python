{
 "cells": [
  {
   "cell_type": "code",
   "execution_count": 4,
   "id": "afc55315-0967-4bf6-9de5-2d0f77beb624",
   "metadata": {},
   "outputs": [
    {
     "name": "stdout",
     "output_type": "stream",
     "text": [
      "数当てゲームスタート！\n",
      "私が 1 ～ 9 までの数値を使ってランダムな数を作ります。\n",
      "あなたは 1 ～ 9 桁の桁数を指定してください。\n"
     ]
    },
    {
     "name": "stdin",
     "output_type": "stream",
     "text": [
      "何桁の数字でゲームをしますか？（ 1 ～ 9 ）： 2\n"
     ]
    },
    {
     "name": "stdout",
     "output_type": "stream",
     "text": [
      "\n",
      "0回目の回答です。\n"
     ]
    },
    {
     "name": "stdin",
     "output_type": "stream",
     "text": [
      "注意：指定の桁数以外で入力するとエラーを表示し、初期化されます。\n",
      "2桁の数字を入力してください： 12\n"
     ]
    },
    {
     "name": "stdout",
     "output_type": "stream",
     "text": [
      "ヒット = 0 , ブロー = 0\n",
      "\n",
      "1回目の回答です。\n"
     ]
    },
    {
     "name": "stdin",
     "output_type": "stream",
     "text": [
      "注意：指定の桁数以外で入力するとエラーを表示し、初期化されます。\n",
      "2桁の数字を入力してください： 34\n"
     ]
    },
    {
     "name": "stdout",
     "output_type": "stream",
     "text": [
      "ヒット = 1 , ブロー = 0\n",
      "\n",
      "2回目の回答です。\n"
     ]
    },
    {
     "name": "stdin",
     "output_type": "stream",
     "text": [
      "注意：指定の桁数以外で入力するとエラーを表示し、初期化されます。\n",
      "2桁の数字を入力してください： 35\n"
     ]
    },
    {
     "name": "stdout",
     "output_type": "stream",
     "text": [
      "正解！ゲームクリアです！正解=[3, 5]\n",
      "\n",
      " 3回で正解しました。\n",
      "次は3桁で挑戦してみましょう！\n"
     ]
    }
   ],
   "source": [
    "###import random\n",
    "\n",
    "def check_hit_and_blow(secret, guess):\n",
    "    \"\"\"ユーザーの推測値と正解を比較し、ヒットとブローの数を返す\"\"\"\n",
    "    \n",
    "    # ヒットとブロー変数の初期化\n",
    "    hit = 0\n",
    "    blow = 0\n",
    "\n",
    "    # ヒットのカウント（ヒット = 数字と位置が合っている）\n",
    "    for i in range(len(secret)):\n",
    "        if secret[i] == guess[i]:\n",
    "            hit += 1\n",
    "\n",
    "    # 重複数のカウント\n",
    "    hit_and_blow = 0\n",
    "    for num in secret:\n",
    "        if num in guess:\n",
    "            hit_and_blow += 1\n",
    "\n",
    "    # ブロー = 重複数からヒット数を引く\n",
    "    blow = hit_and_blow - hit\n",
    "            \n",
    "    return hit, blow\n",
    "\n",
    "# ゲーム開始の説明\n",
    "print('数当てゲームスタート！')\n",
    "print('私が 1 ～ 9 までの数値を使ってランダムな数を作ります。')\n",
    "print('あなたは 1 ～ 9 桁の桁数を指定してください。')\n",
    "\n",
    "# 桁数入力\n",
    "while True:\n",
    "    n = int(input('何桁の数字でゲームをしますか？（ 1 ～ 9 ）：'))\n",
    "    \n",
    "    # 1 ～ 9 の数が入力されたらループを抜ける\n",
    "    if 1 <= n <= 9:\n",
    "        break\n",
    "    print(' 1 ～ 9 の数字を入力してください。')\n",
    "\n",
    "# 正解の数\n",
    "numbers = [1, 2, 3, 4, 5, 6, 7, 8, 9]\n",
    "secret_numbers = random.sample(numbers, n)\n",
    "##### print(secret_numbers) #####\n",
    "\n",
    "# 試行回数の初期化\n",
    "trial_count = 0\n",
    "\n",
    "# ユーザーから推測した数字を受け取って正解までループを回す\n",
    "while True:\n",
    "    print('\\n'+f'{trial_count}回目の回答です。')\n",
    "    guess_number = input('注意：指定の桁数以外で入力するとエラーを表示し、初期化されます。'+'\\n'+f'{n}桁の数字を入力してください：')\n",
    "\n",
    "    \n",
    "    # 入力を整数のリストに変換\n",
    "    guess_list = []\n",
    "    for char in guess_number:\n",
    "        guess_list.append(int(char))\n",
    "    ### print(guess_list)\n",
    "    \n",
    "    # 試行回数をカウントアップ\n",
    "    trial_count += 1\n",
    "    # print('\\n'+f'{trial_count}回目の回答です。')\n",
    "\n",
    "    # ユーザーの推測値と正解を比較し、ヒットとブローの数を返す\n",
    "    hit, blow = check_hit_and_blow(secret_numbers, guess_list)\n",
    "    ### print(f'ヒット = {hit}, ブロー = {blow}')\n",
    "\n",
    "    # 結果表示\n",
    "    if hit == n:\n",
    "        print(f'正解！ゲームクリアです！正解={secret_numbers}'+'\\n')\n",
    "        if n == 3:\n",
    "            print(f' {trial_count}回で正解しました。'+'\\n'+f'次は中級で挑戦してみましょう！')\n",
    "        elif n == 6:\n",
    "            print(f' {trial_count}回で正解しました。'+'\\n'+f'次は上級で挑戦してみましょう！')\n",
    "        else:\n",
    "            print(f' {trial_count}回で正解しました。'+'\\n'+f'次は{n+1}桁で挑戦してみましょう！')\n",
    "        break\n",
    "    else:\n",
    "        print(f'ヒット = {hit} , ブロー = {blow}')"
   ]
  },
  {
   "cell_type": "code",
   "execution_count": null,
   "id": "b126b169-a24d-4099-b250-8a387bb6a235",
   "metadata": {},
   "outputs": [],
   "source": []
  },
  {
   "cell_type": "code",
   "execution_count": null,
   "id": "ab1d6e8c-841f-40b8-b630-6c3c71f651d4",
   "metadata": {},
   "outputs": [],
   "source": []
  }
 ],
 "metadata": {
  "kernelspec": {
   "display_name": "Python 3 (ipykernel)",
   "language": "python",
   "name": "python3"
  },
  "language_info": {
   "codemirror_mode": {
    "name": "ipython",
    "version": 3
   },
   "file_extension": ".py",
   "mimetype": "text/x-python",
   "name": "python",
   "nbconvert_exporter": "python",
   "pygments_lexer": "ipython3",
   "version": "3.12.4"
  }
 },
 "nbformat": 4,
 "nbformat_minor": 5
}
